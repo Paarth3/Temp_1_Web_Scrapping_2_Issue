{
 "cells": [
  {
   "cell_type": "code",
   "execution_count": 23,
   "metadata": {},
   "outputs": [],
   "source": [
    "from bs4 import BeautifulSoup\n",
    "import pandas\n",
    "import requests"
   ]
  },
  {
   "cell_type": "code",
   "execution_count": 24,
   "metadata": {},
   "outputs": [],
   "source": [
    "Url = \"https://en.wikipedia.org/wiki/List_of_brown_dwarfs\"\n",
    "html = requests.get(Url)\n",
    "soup = BeautifulSoup(html.content, 'html.parser')"
   ]
  },
  {
   "cell_type": "code",
   "execution_count": 25,
   "metadata": {},
   "outputs": [],
   "source": [
    "headers = [\"Name\", \"Distance\", \"Mass\", \"Radius\"]\n",
    "names = []\n",
    "dists = []\n",
    "masses = []\n",
    "radii = []"
   ]
  },
  {
   "cell_type": "code",
   "execution_count": 31,
   "metadata": {},
   "outputs": [
    {
     "name": "stdout",
     "output_type": "stream",
     "text": [
      "[]\n"
     ]
    }
   ],
   "source": [
    "tables_list = soup.find_all('table', class_ = \"wikitable sortable jquery-tablesorter\")\n",
    "all_table_rows = []\n",
    "\n",
    "# for table in tables_list:\n",
    "#     rows = table.tbody.find_all('tr')\n",
    "#     all_table_rows.append(rows)\n",
    "\n",
    "# print(all_table_rows)\n",
    "\n",
    "# for row in all_table_rows:\n",
    "#     row_data = row.find_all('td')\n",
    "#     # names.append(row_data[0])\n",
    "#     print(row_data)\n",
    "#     print(\"------------------------------------------------------------------------\")\n",
    "    \n",
    "print(tables_list)"
   ]
  }
 ],
 "metadata": {
  "kernelspec": {
   "display_name": "Python 3",
   "language": "python",
   "name": "python3"
  },
  "language_info": {
   "name": "python",
   "version": "3.10.5"
  },
  "orig_nbformat": 4
 },
 "nbformat": 4,
 "nbformat_minor": 2
}
